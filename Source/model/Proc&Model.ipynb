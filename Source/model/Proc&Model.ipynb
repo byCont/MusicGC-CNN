{
 "cells": [
  {
   "cell_type": "code",
   "execution_count": 1,
   "metadata": {
    "execution": {
     "iopub.execute_input": "2023-03-22T11:09:58.172028Z",
     "iopub.status.busy": "2023-03-22T11:09:58.171617Z",
     "iopub.status.idle": "2023-03-22T11:09:58.182876Z",
     "shell.execute_reply": "2023-03-22T11:09:58.181924Z",
     "shell.execute_reply.started": "2023-03-22T11:09:58.171989Z"
    }
   },
   "outputs": [],
   "source": [
    "import pandas as pd\n",
    "import os\n",
    "import numpy as np\n",
    "import librosa\n",
    "from tqdm import tqdm\n",
    "import matplotlib.pyplot as plt\n",
    "from sklearn.model_selection import train_test_split\n",
    "from sklearn.preprocessing import LabelEncoder\n",
    "from tensorflow.keras.utils import to_categorical\n",
    "from tensorflow.keras.models import Sequential\n",
    "from tensorflow.keras.layers import Dense, Conv1D, MaxPooling1D, BatchNormalization, Dropout, Flatten\n",
    "from tensorflow.keras.callbacks import EarlyStopping, ReduceLROnPlateau"
   ]
  },
  {
   "cell_type": "code",
   "execution_count": 2,
   "metadata": {
    "execution": {
     "iopub.execute_input": "2023-03-22T11:10:18.829602Z",
     "iopub.status.busy": "2023-03-22T11:10:18.829138Z",
     "iopub.status.idle": "2023-03-22T11:10:18.834932Z",
     "shell.execute_reply": "2023-03-22T11:10:18.833644Z",
     "shell.execute_reply.started": "2023-03-22T11:10:18.829562Z"
    }
   },
   "outputs": [],
   "source": [
    "# Constants\n",
    "DATASET_PATH = 'D:\\\\Descargas\\\\genres_lat'\n",
    "NUM_SAMPLES = 300\n",
    "DURATION = 10\n",
    "NUM_GENRES = 5\n",
    "SAMPLE_RATE = 22050\n",
    "NUM_MFCC = 13\n",
    "N_FFT = 2048\n",
    "HOP_LENGTH = 512"
   ]
  },
  {
   "cell_type": "markdown",
   "metadata": {},
   "source": []
  },
  {
   "cell_type": "code",
   "execution_count": 3,
   "metadata": {
    "execution": {
     "iopub.execute_input": "2023-03-22T11:10:35.121981Z",
     "iopub.status.busy": "2023-03-22T11:10:35.121414Z",
     "iopub.status.idle": "2023-03-22T11:10:35.196772Z",
     "shell.execute_reply": "2023-03-22T11:10:35.195488Z",
     "shell.execute_reply.started": "2023-03-22T11:10:35.121927Z"
    }
   },
   "outputs": [],
   "source": [
    "def load_data(dataset_path):\n",
    "    data = {\n",
    "        'label': [],\n",
    "        'path': []\n",
    "    }\n",
    "    for genre in os.listdir(dataset_path):\n",
    "        genre_path = os.path.join(dataset_path, genre)\n",
    "        for file in os.listdir(genre_path)[:NUM_SAMPLES]:\n",
    "            data['label'].append(genre)\n",
    "            data['path'].append(os.path.join(genre_path, file))\n",
    "    return pd.DataFrame(data)"
   ]
  },
  {
   "cell_type": "code",
   "execution_count": 4,
   "metadata": {
    "execution": {
     "iopub.execute_input": "2023-03-22T11:11:01.219721Z",
     "iopub.status.busy": "2023-03-22T11:11:01.219150Z",
     "iopub.status.idle": "2023-03-22T11:11:01.226084Z",
     "shell.execute_reply": "2023-03-22T11:11:01.224992Z",
     "shell.execute_reply.started": "2023-03-22T11:11:01.219663Z"
    }
   },
   "outputs": [],
   "source": [
    "def extract_features(file_path):\n",
    "    audio, _ = librosa.load(file_path, duration=DURATION, sr=SAMPLE_RATE, res_type='kaiser_fast')\n",
    "    mfccs = librosa.feature.mfcc(y=audio, sr=SAMPLE_RATE, n_mfcc=NUM_MFCC, n_fft=N_FFT, hop_length=HOP_LENGTH)\n",
    "    return mfccs.T"
   ]
  },
  {
   "cell_type": "code",
   "execution_count": 5,
   "metadata": {
    "execution": {
     "iopub.execute_input": "2023-03-22T11:11:08.589621Z",
     "iopub.status.busy": "2023-03-22T11:11:08.589096Z",
     "iopub.status.idle": "2023-03-22T11:13:47.149192Z",
     "shell.execute_reply": "2023-03-22T11:13:47.146700Z",
     "shell.execute_reply.started": "2023-03-22T11:11:08.589575Z"
    }
   },
   "outputs": [],
   "source": [
    "def prepare_dataset(df):\n",
    "    X, y = [], []\n",
    "    for _, row in tqdm(df.iterrows(), total=len(df)):\n",
    "        features = extract_features(row['path'])\n",
    "        X.append(features)\n",
    "        y.append(row['label'])\n",
    "    return np.array(X), np.array(y)"
   ]
  },
  {
   "cell_type": "code",
   "execution_count": 6,
   "metadata": {
    "execution": {
     "iopub.execute_input": "2023-03-22T11:13:51.591756Z",
     "iopub.status.busy": "2023-03-22T11:13:51.590699Z",
     "iopub.status.idle": "2023-03-22T11:13:51.636334Z",
     "shell.execute_reply": "2023-03-22T11:13:51.634951Z",
     "shell.execute_reply.started": "2023-03-22T11:13:51.591701Z"
    }
   },
   "outputs": [
    {
     "name": "stderr",
     "output_type": "stream",
     "text": [
      "100%|██████████| 1500/1500 [01:30<00:00, 16.58it/s]\n"
     ]
    }
   ],
   "source": [
    "# Load and prepare data\n",
    "df = load_data(DATASET_PATH)\n",
    "X, y = prepare_dataset(df)"
   ]
  },
  {
   "cell_type": "code",
   "execution_count": null,
   "metadata": {},
   "outputs": [],
   "source": [
    "load_data['label'].value_counts()"
   ]
  },
  {
   "cell_type": "code",
   "execution_count": 7,
   "metadata": {
    "execution": {
     "iopub.execute_input": "2023-03-22T11:13:56.264529Z",
     "iopub.status.busy": "2023-03-22T11:13:56.263865Z",
     "iopub.status.idle": "2023-03-22T11:13:56.282066Z",
     "shell.execute_reply": "2023-03-22T11:13:56.280927Z",
     "shell.execute_reply.started": "2023-03-22T11:13:56.264479Z"
    }
   },
   "outputs": [],
   "source": [
    "# Encode labels\n",
    "le = LabelEncoder()\n",
    "y_encoded = le.fit_transform(y)\n",
    "y_categorical = to_categorical(y_encoded)"
   ]
  },
  {
   "cell_type": "code",
   "execution_count": 8,
   "metadata": {
    "execution": {
     "iopub.execute_input": "2023-03-22T11:14:09.303907Z",
     "iopub.status.busy": "2023-03-22T11:14:09.302837Z",
     "iopub.status.idle": "2023-03-22T11:14:09.311786Z",
     "shell.execute_reply": "2023-03-22T11:14:09.309998Z",
     "shell.execute_reply.started": "2023-03-22T11:14:09.303846Z"
    }
   },
   "outputs": [],
   "source": [
    "# Split the data\n",
    "X_train, X_test, y_train, y_test = train_test_split(X, y_categorical, test_size=0.2, random_state=42)"
   ]
  },
  {
   "cell_type": "code",
   "execution_count": 9,
   "metadata": {
    "execution": {
     "iopub.execute_input": "2023-03-22T11:14:11.540495Z",
     "iopub.status.busy": "2023-03-22T11:14:11.539198Z",
     "iopub.status.idle": "2023-03-22T11:14:11.925990Z",
     "shell.execute_reply": "2023-03-22T11:14:11.924567Z",
     "shell.execute_reply.started": "2023-03-22T11:14:11.540431Z"
    }
   },
   "outputs": [],
   "source": [
    "# Build the model\n",
    "model = Sequential([\n",
    "    Conv1D(32, 3, activation='relu', input_shape=(X_train.shape[1], X_train.shape[2])),\n",
    "    BatchNormalization(),\n",
    "    MaxPooling1D(3),\n",
    "    Conv1D(64, 3, activation='relu'),\n",
    "    BatchNormalization(),\n",
    "    MaxPooling1D(3),\n",
    "    Conv1D(128, 3, activation='relu'),\n",
    "    BatchNormalization(),\n",
    "    MaxPooling1D(3),\n",
    "    Flatten(),\n",
    "    Dense(256, activation='relu'),\n",
    "    Dropout(0.5),\n",
    "    Dense(NUM_GENRES, activation='softmax')\n",
    "])\n",
    "\n",
    "model.compile(optimizer='adam', loss='categorical_crossentropy', metrics=['accuracy'])"
   ]
  },
  {
   "cell_type": "code",
   "execution_count": 10,
   "metadata": {
    "execution": {
     "iopub.execute_input": "2023-03-22T11:14:15.377787Z",
     "iopub.status.busy": "2023-03-22T11:14:15.376537Z",
     "iopub.status.idle": "2023-03-22T11:14:15.403346Z",
     "shell.execute_reply": "2023-03-22T11:14:15.401979Z",
     "shell.execute_reply.started": "2023-03-22T11:14:15.377731Z"
    }
   },
   "outputs": [],
   "source": [
    "# Callbacks\n",
    "early_stopping = EarlyStopping(monitor='val_loss', patience=10, restore_best_weights=True)\n",
    "reduce_lr = ReduceLROnPlateau(monitor='val_loss', factor=0.2, patience=5, min_lr=0.0001)\n"
   ]
  },
  {
   "cell_type": "code",
   "execution_count": 11,
   "metadata": {
    "execution": {
     "iopub.execute_input": "2023-03-22T11:14:24.645115Z",
     "iopub.status.busy": "2023-03-22T11:14:24.644640Z",
     "iopub.status.idle": "2023-03-22T11:22:03.444595Z",
     "shell.execute_reply": "2023-03-22T11:22:03.443598Z",
     "shell.execute_reply.started": "2023-03-22T11:14:24.645072Z"
    }
   },
   "outputs": [
    {
     "name": "stdout",
     "output_type": "stream",
     "text": [
      "Epoch 1/100\n",
      "38/38 [==============================] - 7s 138ms/step - loss: 2.1087 - accuracy: 0.4414 - val_loss: 4.7281 - val_accuracy: 0.2267\n",
      "Epoch 2/100\n",
      "38/38 [==============================] - 2s 59ms/step - loss: 0.7682 - accuracy: 0.7202 - val_loss: 2.2328 - val_accuracy: 0.3700\n",
      "Epoch 3/100\n",
      "38/38 [==============================] - 2s 58ms/step - loss: 0.4973 - accuracy: 0.8159 - val_loss: 1.6324 - val_accuracy: 0.4600\n",
      "Epoch 4/100\n",
      "38/38 [==============================] - 2s 51ms/step - loss: 0.2927 - accuracy: 0.9152 - val_loss: 0.9508 - val_accuracy: 0.6900\n",
      "Epoch 5/100\n",
      "38/38 [==============================] - 2s 60ms/step - loss: 0.2586 - accuracy: 0.9099 - val_loss: 0.7332 - val_accuracy: 0.7567\n",
      "Epoch 6/100\n",
      "38/38 [==============================] - 2s 55ms/step - loss: 0.1860 - accuracy: 0.9364 - val_loss: 0.6543 - val_accuracy: 0.7733\n",
      "Epoch 7/100\n",
      "38/38 [==============================] - 2s 52ms/step - loss: 0.1146 - accuracy: 0.9562 - val_loss: 0.5384 - val_accuracy: 0.8433\n",
      "Epoch 8/100\n",
      "38/38 [==============================] - 2s 49ms/step - loss: 0.0941 - accuracy: 0.9705 - val_loss: 0.5942 - val_accuracy: 0.8400\n",
      "Epoch 9/100\n",
      "38/38 [==============================] - 2s 53ms/step - loss: 0.0992 - accuracy: 0.9605 - val_loss: 0.6428 - val_accuracy: 0.8233\n",
      "Epoch 10/100\n",
      "38/38 [==============================] - 3s 67ms/step - loss: 0.0933 - accuracy: 0.9686 - val_loss: 0.5218 - val_accuracy: 0.8667\n",
      "Epoch 11/100\n",
      "38/38 [==============================] - 3s 74ms/step - loss: 0.0720 - accuracy: 0.9734 - val_loss: 0.4749 - val_accuracy: 0.8667\n",
      "Epoch 12/100\n",
      "38/38 [==============================] - 2s 64ms/step - loss: 0.0436 - accuracy: 0.9868 - val_loss: 0.5085 - val_accuracy: 0.8667\n",
      "Epoch 13/100\n",
      "38/38 [==============================] - 2s 60ms/step - loss: 0.0840 - accuracy: 0.9779 - val_loss: 0.5741 - val_accuracy: 0.8533\n",
      "Epoch 14/100\n",
      "38/38 [==============================] - 2s 54ms/step - loss: 0.0642 - accuracy: 0.9782 - val_loss: 0.5615 - val_accuracy: 0.8500\n",
      "Epoch 15/100\n",
      "38/38 [==============================] - 2s 58ms/step - loss: 0.0679 - accuracy: 0.9809 - val_loss: 0.7749 - val_accuracy: 0.8133\n",
      "Epoch 16/100\n",
      "38/38 [==============================] - 2s 63ms/step - loss: 0.0630 - accuracy: 0.9771 - val_loss: 0.6870 - val_accuracy: 0.8533\n",
      "Epoch 17/100\n",
      "38/38 [==============================] - 3s 68ms/step - loss: 0.0598 - accuracy: 0.9779 - val_loss: 0.5225 - val_accuracy: 0.8833\n",
      "Epoch 18/100\n",
      "38/38 [==============================] - 2s 66ms/step - loss: 0.0203 - accuracy: 0.9976 - val_loss: 0.4940 - val_accuracy: 0.8833\n",
      "Epoch 19/100\n",
      "38/38 [==============================] - 2s 63ms/step - loss: 0.0315 - accuracy: 0.9929 - val_loss: 0.4866 - val_accuracy: 0.8833\n",
      "Epoch 20/100\n",
      "38/38 [==============================] - 2s 61ms/step - loss: 0.0208 - accuracy: 0.9927 - val_loss: 0.5029 - val_accuracy: 0.8767\n",
      "Epoch 21/100\n",
      "38/38 [==============================] - 2s 66ms/step - loss: 0.0113 - accuracy: 0.9984 - val_loss: 0.4783 - val_accuracy: 0.8800\n"
     ]
    }
   ],
   "source": [
    "# Train the model\n",
    "history = model.fit(\n",
    "    X_train, y_train,\n",
    "    validation_data=(X_test, y_test),\n",
    "    epochs=100,\n",
    "    batch_size=32,\n",
    "    callbacks=[early_stopping, reduce_lr]\n",
    ")"
   ]
  },
  {
   "cell_type": "code",
   "execution_count": 12,
   "metadata": {},
   "outputs": [
    {
     "name": "stdout",
     "output_type": "stream",
     "text": [
      "10/10 [==============================] - 0s 13ms/step - loss: 0.4749 - accuracy: 0.8667\n",
      "Test accuracy: 0.8667\n"
     ]
    }
   ],
   "source": [
    "# Evaluate the model\n",
    "test_loss, test_accuracy = model.evaluate(X_test, y_test)\n",
    "print(f\"Test accuracy: {test_accuracy:.4f}\")"
   ]
  },
  {
   "cell_type": "code",
   "execution_count": 13,
   "metadata": {},
   "outputs": [
    {
     "data": {
      "image/png": "[encoded data removed]",
      "text/plain": [
       "<Figure size 1200x400 with 2 Axes>"
      ]
     },
     "metadata": {},
     "output_type": "display_data"
    }
   ],
   "source": [
    "# Plot training history\n",
    "plt.figure(figsize=(12, 4))\n",
    "plt.subplot(1, 2, 1)\n",
    "plt.plot(history.history['accuracy'], label='Training Accuracy')\n",
    "plt.plot(history.history['val_accuracy'], label='Validation Accuracy')\n",
    "plt.title('Model Accuracy')\n",
    "plt.xlabel('Epoch')\n",
    "plt.ylabel('Accuracy')\n",
    "plt.legend()\n",
    "\n",
    "plt.subplot(1, 2, 2)\n",
    "plt.plot(history.history['loss'], label='Training Loss')\n",
    "plt.plot(history.history['val_loss'], label='Validation Loss')\n",
    "plt.title('Model Loss')\n",
    "plt.xlabel('Epoch')\n",
    "plt.ylabel('Loss')\n",
    "plt.legend()\n",
    "\n",
    "plt.tight_layout()\n",
    "plt.show()"
   ]
  },
  {
   "cell_type": "code",
   "execution_count": 14,
   "metadata": {},
   "outputs": [
    {
     "name": "stdout",
     "output_type": "stream",
     "text": [
      "Model saved successfully.\n"
     ]
    }
   ],
   "source": [
    "# Save the model\n",
    "model.save(\"latin_music_genre_classifier.h5\")\n",
    "print(\"Model saved successfully.\")"
   ]
  }
 ],
 "metadata": {
  "kernelspec": {
   "display_name": "Python 3 (ipykernel)",
   "language": "python",
   "name": "python3"
  },
  "language_info": {
   "codemirror_mode": {
    "name": "ipython",
    "version": 3
   },
   "file_extension": ".py",
   "mimetype": "text/x-python",
   "name": "python",
   "nbconvert_exporter": "python",
   "pygments_lexer": "ipython3",
   "version": "3.8.0"
  }
 },
 "nbformat": 4,
 "nbformat_minor": 4
}
